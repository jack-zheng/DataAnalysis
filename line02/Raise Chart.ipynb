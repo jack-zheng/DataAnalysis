{
 "cells": [
  {
   "cell_type": "code",
   "execution_count": 47,
   "metadata": {},
   "outputs": [
    {
     "name": "stdout",
     "output_type": "stream",
     "text": [
      "finish write file\n"
     ]
    }
   ],
   "source": [
    "# read lines from file, remove the last comma of lines \n",
    "with open ('calculation.csv') as file:\n",
    "    update = []\n",
    "    for line  in file:\n",
    "        # remove space from file, csv file has no space between column\n",
    "        line = \"\".join(line.split(\" \"))\n",
    "        index = line.rfind(',')\n",
    "        update.append(line[:index] + line[index+1:])\n",
    "        \n",
    "with open('remove_comma.csv', 'w') as file:\n",
    "    for line in update:\n",
    "        file.write(line)\n",
    "    print(\"finish write file\")\n"
   ]
  },
  {
   "cell_type": "code",
   "execution_count": 51,
   "metadata": {
    "scrolled": false
   },
   "outputs": [
    {
     "data": {
      "text/html": [
       "<iframe id=\"igraph\" scrolling=\"no\" style=\"border:none;\" seamless=\"seamless\" src=\"https://plot.ly/~jack-zheng/8.embed\" height=\"525px\" width=\"100%\"></iframe>"
      ],
      "text/plain": [
       "<plotly.tools.PlotlyDisplay object>"
      ]
     },
     "execution_count": 51,
     "metadata": {},
     "output_type": "execute_result"
    }
   ],
   "source": [
    "        \n",
    "import plotly.plotly as py\n",
    "import plotly.graph_objs as go\n",
    "\n",
    "import pandas as pd\n",
    "from datetime import datetime\n",
    "df = pd.read_csv('remove_comma.csv')\n",
    "\n",
    "# calculate pay\n",
    "pay = df.filter(items=['YEAR', 'NET_PAY'])\n",
    "# remove data that without value\n",
    "pay = pay.drop(pay[pay.NET_PAY == '?'].index)\n",
    "net_pay = go.Scatter(\n",
    "    x=pay.YEAR,\n",
    "    y=pay['NET_PAY'],\n",
    "    name = \"NET PAY\",\n",
    "    line = dict(color = '#B6DB78'),\n",
    "    opacity = 0.8)\n",
    "\n",
    "# calculate earnings\n",
    "earnings = df.filter(items=['YEAR', 'TOTAL_EARNINGS'])\n",
    "# remove data that without value\n",
    "earnings = earnings.drop(earnings[earnings.TOTAL_EARNINGS == '?'].index)\n",
    "total_earnings = go.Scatter(\n",
    "    x=earnings.YEAR,\n",
    "    y=earnings['TOTAL_EARNINGS'],\n",
    "    name = \"TOTAL EARNINGS\",\n",
    "    line = dict(color = '#17BECF'),\n",
    "    opacity = 0.8)\n",
    "\n",
    "# calculate deductions\n",
    "deductions = df.filter(items=['YEAR', 'TOTAL_DEDUCTIONS'])\n",
    "# remove data that without value\n",
    "deductions = deductions.drop(deductions[deductions.TOTAL_DEDUCTIONS == '?'].index)\n",
    "total_deductions = go.Scatter(\n",
    "    x=deductions.YEAR,\n",
    "    y=deductions['TOTAL_DEDUCTIONS'],\n",
    "    name = \"TOTAL DEDUCTIONS\",\n",
    "    line = dict(color = '#7F7F7F'),\n",
    "    opacity = 0.8)\n",
    "\n",
    "data = [total_earnings, net_pay, total_deductions]\n",
    "py.iplot(data, filename = 'Raise')"
   ]
  }
 ],
 "metadata": {
  "kernelspec": {
   "display_name": "Python 3",
   "language": "python",
   "name": "python3"
  },
  "language_info": {
   "codemirror_mode": {
    "name": "ipython",
    "version": 3
   },
   "file_extension": ".py",
   "mimetype": "text/x-python",
   "name": "python",
   "nbconvert_exporter": "python",
   "pygments_lexer": "ipython3",
   "version": "3.7.1"
  }
 },
 "nbformat": 4,
 "nbformat_minor": 2
}
