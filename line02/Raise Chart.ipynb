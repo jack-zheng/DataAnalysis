{
 "cells": [
  {
   "cell_type": "code",
   "execution_count": 58,
   "metadata": {},
   "outputs": [
    {
     "name": "stdout",
     "output_type": "stream",
     "text": [
      "finish write file\n"
     ]
    }
   ],
   "source": [
    "# read lines from file, remove the last comma of lines \n",
    "with open ('calculation.csv') as file:\n",
    "    update = []\n",
    "    for line  in file:\n",
    "        # remove space from file, csv file has no space between column\n",
    "        line = \"\".join(line.split(\" \"))\n",
    "        index = line.rfind(',')\n",
    "        update.append(line[:index] + line[index+1:])\n",
    "        \n",
    "with open('remove_comma.csv', 'w') as file:\n",
    "    for line in update:\n",
    "        file.write(line)\n",
    "    print(\"finish write file\")\n"
   ]
  },
  {
   "cell_type": "code",
   "execution_count": 59,
   "metadata": {
    "scrolled": true
   },
   "outputs": [
    {
     "data": {
      "text/html": [
       "<iframe id=\"igraph\" scrolling=\"no\" style=\"border:none;\" seamless=\"seamless\" src=\"https://plot.ly/~jack-zheng/8.embed\" height=\"525px\" width=\"100%\"></iframe>"
      ],
      "text/plain": [
       "<plotly.tools.PlotlyDisplay object>"
      ]
     },
     "execution_count": 59,
     "metadata": {},
     "output_type": "execute_result"
    }
   ],
   "source": [
    "        \n",
    "import plotly.plotly as py\n",
    "import plotly.graph_objs as go\n",
    "\n",
    "import pandas as pd\n",
    "from datetime import datetime\n",
    "df = pd.read_csv('remove_comma.csv')\n",
    "\n",
    "# calculate pay\n",
    "pay = df.filter(items=['YEAR', 'NET_PAY'])\n",
    "# all pay got value, no need to remove data\n",
    "net_pay = go.Scatter(\n",
    "    x=pay.YEAR,\n",
    "    y=pay['NET_PAY'],\n",
    "    name = \"NET PAY\",\n",
    "    line = dict(color = '#B6DB78'),\n",
    "    opacity = 0.8)\n",
    "\n",
    "# calculate earnings\n",
    "earnings = df.filter(items=['YEAR', 'TOTAL_EARNINGS'])\n",
    "# remove data that without value\n",
    "earnings = earnings.drop(earnings[earnings.TOTAL_EARNINGS == '?'].index)\n",
    "total_earnings = go.Scatter(\n",
    "    x=earnings.YEAR,\n",
    "    y=earnings['TOTAL_EARNINGS'],\n",
    "    name = \"TOTAL EARNINGS\",\n",
    "    line = dict(color = '#17BECF'),\n",
    "    opacity = 0.8)\n",
    "\n",
    "# calculate deductions\n",
    "deductions = df.filter(items=['YEAR', 'TOTAL_DEDUCTIONS'])\n",
    "# remove data that without value\n",
    "deductions = deductions.drop(deductions[deductions.TOTAL_DEDUCTIONS == '?'].index)\n",
    "total_deductions = go.Scatter(\n",
    "    x=deductions.YEAR,\n",
    "    y=deductions['TOTAL_DEDUCTIONS'],\n",
    "    name = \"TOTAL DEDUCTIONS\",\n",
    "    line = dict(color = '#7F7F7F'),\n",
    "    opacity = 0.8)\n",
    "\n",
    "data = [total_earnings, total_deductions, net_pay]\n",
    "py.iplot(data, filename = 'Raise')"
   ]
  },
  {
   "cell_type": "code",
   "execution_count": 60,
   "metadata": {
    "scrolled": true
   },
   "outputs": [
    {
     "name": "stdout",
     "output_type": "stream",
     "text": [
      "Pay: ----------------\n",
      " YEAR\n",
      "2013     27108.60\n",
      "2014     75594.40\n",
      "2015    124923.41\n",
      "2016    155775.12\n",
      "2017    198551.22\n",
      "2018    198020.05\n",
      "Name: NET_PAY, dtype: float64\n",
      "Earings: ----------------\n",
      " YEAR\n",
      "2014     33254.02\n",
      "2015    108593.51\n",
      "2016    199152.49\n",
      "2017    253998.56\n",
      "2018    261957.51\n",
      "Name: TOTAL_EARNINGS, dtype: float64\n",
      "Deductions: ----------------\n",
      " YEAR\n",
      "2014     7559.80\n",
      "2015    23887.95\n",
      "2016    43581.37\n",
      "2017    55447.34\n",
      "2018    63937.46\n",
      "Name: TOTAL_DEDUCTIONS, dtype: float64\n"
     ]
    }
   ],
   "source": [
    "pay[\"NET_PAY\"] = pay[\"NET_PAY\"].astype(float)\n",
    "year_pay = pay.groupby([pay.YEAR.str[:4]])['NET_PAY'].sum()\n",
    "print('Pay: ----------------\\n %s' %year_pay)\n",
    "\n",
    "earnings[\"TOTAL_EARNINGS\"] = earnings[\"TOTAL_EARNINGS\"].astype(float)\n",
    "year_earnings = earnings.groupby([earnings.YEAR.str[:4]])['TOTAL_EARNINGS'].sum()\n",
    "print('Earings: ----------------\\n %s' %year_earnings)\n",
    "\n",
    "deductions[\"TOTAL_DEDUCTIONS\"] = deductions[\"TOTAL_DEDUCTIONS\"].astype(float)\n",
    "year_deductions = deductions.groupby([deductions.YEAR.str[:4]])['TOTAL_DEDUCTIONS'].sum()\n",
    "print('Deductions: ----------------\\n %s' %year_deductions)"
   ]
  }
 ],
 "metadata": {
  "kernelspec": {
   "display_name": "Python 3",
   "language": "python",
   "name": "python3"
  },
  "language_info": {
   "codemirror_mode": {
    "name": "ipython",
    "version": 3
   },
   "file_extension": ".py",
   "mimetype": "text/x-python",
   "name": "python",
   "nbconvert_exporter": "python",
   "pygments_lexer": "ipython3",
   "version": "3.7.1"
  }
 },
 "nbformat": 4,
 "nbformat_minor": 2
}
